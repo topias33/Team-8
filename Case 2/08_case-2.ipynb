{
 "cells": [
  {
   "cell_type": "code",
   "execution_count": 1,
   "metadata": {},
   "outputs": [
    {
     "name": "stdout",
     "output_type": "stream",
     "text": [
      "Populating the interactive namespace from numpy and matplotlib\n"
     ]
    }
   ],
   "source": [
    "%pylab inline"
   ]
  },
  {
   "cell_type": "code",
   "execution_count": 2,
   "metadata": {},
   "outputs": [],
   "source": [
    "import os, shutil\n",
    "\n",
    "orig_dir = 'chest_xray/train'\n",
    "orig_dir2 = 'chest_xray/test'"
   ]
  },
  {
   "cell_type": "markdown",
   "metadata": {},
   "source": [
    "Remove existing directories and make new directories."
   ]
  },
  {
   "cell_type": "code",
   "execution_count": 3,
   "metadata": {},
   "outputs": [
    {
     "name": "stdout",
     "output_type": "stream",
     "text": [
      "['NORMAL', 'PNEUMONIA']\n",
      "Wall time: 1.61 s\n"
     ]
    }
   ],
   "source": [
    "%%time\n",
    "train_dir = './train'\n",
    "valid_dir = './validation'\n",
    "test_dir = './test'\n",
    "\n",
    "for d in [train_dir, valid_dir, test_dir]:\n",
    "    if os.path.exists(d):\n",
    "        shutil.rmtree(d)\n",
    "    os.mkdir(d)\n",
    "    os.mkdir(os.path.join(d,'NORMAL'))\n",
    "    os.mkdir(os.path.join(d,'PNEUMONIA'))\n",
    "print(os.listdir(train_dir))"
   ]
  },
  {
   "cell_type": "markdown",
   "metadata": {},
   "source": [
    "List all normal and pneumonia image paths in original train and test data."
   ]
  },
  {
   "cell_type": "code",
   "execution_count": 4,
   "metadata": {},
   "outputs": [
    {
     "name": "stdout",
     "output_type": "stream",
     "text": [
      "1583\n",
      "4273\n",
      "Wall time: 38.9 ms\n"
     ]
    }
   ],
   "source": [
    "%%time\n",
    "normal_images = [os.path.join(orig_dir, 'NORMAL', x) for x in os.listdir(os.path.join(orig_dir, 'NORMAL')) if x.endswith('.jpeg')]\n",
    "normal_images += [os.path.join(orig_dir2, 'NORMAL', x) for x in os.listdir(os.path.join(orig_dir2, 'NORMAL')) if x.endswith('.jpeg')]\n",
    "pneumonia_images = [os.path.join(orig_dir, 'PNEUMONIA', x) for x in os.listdir(os.path.join(orig_dir, 'PNEUMONIA')) if x.endswith('.jpeg')]\n",
    "pneumonia_images += [os.path.join(orig_dir2, 'PNEUMONIA', x) for x in os.listdir(os.path.join(orig_dir2, 'PNEUMONIA')) if x.endswith('.jpeg')]\n",
    "\n",
    "\n",
    "print(len(normal_images))\n",
    "print(len(pneumonia_images))"
   ]
  },
  {
   "cell_type": "code",
   "execution_count": 5,
   "metadata": {},
   "outputs": [
    {
     "name": "stdout",
     "output_type": "stream",
     "text": [
      "chest_xray/train\\NORMAL\\IM-0115-0001.jpeg\n",
      "IM-0115-0001.jpeg\n"
     ]
    }
   ],
   "source": [
    "print(normal_images[0])\n",
    "print(normal_images[0].split('\\\\')[-1])"
   ]
  },
  {
   "cell_type": "markdown",
   "metadata": {},
   "source": [
    "Randomize the order of the images."
   ]
  },
  {
   "cell_type": "code",
   "execution_count": 6,
   "metadata": {},
   "outputs": [
    {
     "name": "stdout",
     "output_type": "stream",
     "text": [
      "Wall time: 0 ns\n"
     ]
    }
   ],
   "source": [
    "%%time\n",
    "random.shuffle(normal_images)\n",
    "random.shuffle(pneumonia_images)"
   ]
  },
  {
   "cell_type": "markdown",
   "metadata": {},
   "source": [
    "Copy the images from original directories to new ones and split them into train, validation and test folders. (0.6 : 0.2 : 0.2)"
   ]
  },
  {
   "cell_type": "code",
   "execution_count": 7,
   "metadata": {},
   "outputs": [
    {
     "name": "stdout",
     "output_type": "stream",
     "text": [
      "Wall time: 3.47 s\n"
     ]
    }
   ],
   "source": [
    "%%time\n",
    "split = int(0.2 * len(normal_images))\n",
    "for file in normal_images[:split]:\n",
    "    shutil.copyfile(file, os.path.join(test_dir, 'NORMAL', file.split('\\\\')[-1]))\n",
    "\n",
    "for file in normal_images[split:split * 2]:\n",
    "    shutil.copyfile(file, os.path.join(valid_dir, 'NORMAL', file.split('\\\\')[-1]))\n",
    "    \n",
    "for file in normal_images[split * 2:]:\n",
    "    shutil.copyfile(file, os.path.join(train_dir, 'NORMAL', file.split('\\\\')[-1]))"
   ]
  },
  {
   "cell_type": "code",
   "execution_count": 8,
   "metadata": {},
   "outputs": [
    {
     "name": "stdout",
     "output_type": "stream",
     "text": [
      "Wall time: 5.2 s\n"
     ]
    }
   ],
   "source": [
    "%%time\n",
    "split = int(0.2 * len(pneumonia_images))\n",
    "for file in pneumonia_images[:split]:\n",
    "    shutil.copyfile(file, os.path.join(test_dir, 'PNEUMONIA', file.split('\\\\')[-1]))\n",
    "\n",
    "for file in pneumonia_images[split:split * 2]:\n",
    "    shutil.copyfile(file, os.path.join(valid_dir, 'PNEUMONIA', file.split('\\\\')[-1]))\n",
    "    \n",
    "for file in pneumonia_images[split * 2:]:\n",
    "    shutil.copyfile(file, os.path.join(train_dir, 'PNEUMONIA', file.split('\\\\')[-1]))"
   ]
  },
  {
   "cell_type": "code",
   "execution_count": 9,
   "metadata": {},
   "outputs": [],
   "source": [
    "from tensorflow.keras.preprocessing.image import ImageDataGenerator\n",
    "\n",
    "scale = 1./255\n",
    "datagen = ImageDataGenerator(rescale=scale)"
   ]
  },
  {
   "cell_type": "code",
   "execution_count": 10,
   "metadata": {},
   "outputs": [
    {
     "name": "stdout",
     "output_type": "stream",
     "text": [
      "Found 3516 images belonging to 2 classes.\n",
      "Found 1170 images belonging to 2 classes.\n",
      "Found 1170 images belonging to 2 classes.\n"
     ]
    }
   ],
   "source": [
    "target_size = (150,150)\n",
    "batch_size = 16\n",
    "class_mode = 'binary'\n",
    "\n",
    "train_generator = datagen.flow_from_directory(\n",
    "    train_dir, target_size,\n",
    "    batch_size=batch_size,\n",
    "    class_mode=class_mode)\n",
    "\n",
    "dev_generator = datagen.flow_from_directory(\n",
    "    valid_dir, target_size,\n",
    "    batch_size=batch_size,\n",
    "    class_mode=class_mode)\n",
    "\n",
    "test_generator = datagen.flow_from_directory(\n",
    "    test_dir, target_size,\n",
    "    batch_size=batch_size,\n",
    "    class_mode=class_mode)"
   ]
  },
  {
   "cell_type": "code",
   "execution_count": 11,
   "metadata": {},
   "outputs": [
    {
     "data": {
      "image/png": "[encoded data removed]",
      "text/plain": [
       "<Figure size 432x288 with 1 Axes>"
      ]
     },
     "metadata": {
      "needs_background": "light"
     },
     "output_type": "display_data"
    },
    {
     "data": {
      "text/plain": [
       "(150, 150, 3)"
      ]
     },
     "execution_count": 11,
     "metadata": {},
     "output_type": "execute_result"
    }
   ],
   "source": [
    "data_batch = train_generator[0][0]\n",
    "imshow(data_batch[0])\n",
    "show()\n",
    "data_batch[0].shape"
   ]
  },
  {
   "cell_type": "code",
   "execution_count": 12,
   "metadata": {},
   "outputs": [
    {
     "name": "stdout",
     "output_type": "stream",
     "text": [
      "Model: \"sequential\"\n",
      "_________________________________________________________________\n",
      "Layer (type)                 Output Shape              Param #   \n",
      "=================================================================\n",
      "conv2d (Conv2D)              (None, 150, 150, 32)      896       \n",
      "_________________________________________________________________\n",
      "max_pooling2d (MaxPooling2D) (None, 75, 75, 32)        0         \n",
      "_________________________________________________________________\n",
      "conv2d_1 (Conv2D)            (None, 73, 73, 32)        9248      \n",
      "_________________________________________________________________\n",
      "max_pooling2d_1 (MaxPooling2 (None, 36, 36, 32)        0         \n",
      "_________________________________________________________________\n",
      "conv2d_2 (Conv2D)            (None, 36, 36, 32)        9248      \n",
      "_________________________________________________________________\n",
      "max_pooling2d_2 (MaxPooling2 (None, 18, 18, 32)        0         \n",
      "_________________________________________________________________\n",
      "flatten (Flatten)            (None, 10368)             0         \n",
      "_________________________________________________________________\n",
      "dense (Dense)                (None, 1)                 10369     \n",
      "=================================================================\n",
      "Total params: 29,761\n",
      "Trainable params: 29,761\n",
      "Non-trainable params: 0\n",
      "_________________________________________________________________\n"
     ]
    }
   ],
   "source": [
    "#Build and compile the model\n",
    "\n",
    "from tensorflow.keras import models, layers\n",
    "\n",
    "network = models.Sequential()\n",
    "network.add(layers.Conv2D(32, (3,3), activation = 'relu', padding = \"same\",input_shape=data_batch[0].shape))\n",
    "network.add(layers.MaxPooling2D((2,2)))\n",
    "network.add(layers.Conv2D(32, (3,3), activation = 'relu'))\n",
    "network.add(layers.MaxPooling2D((2,2)))\n",
    "network.add(layers.Conv2D(32, (3,3), padding = \"same\", activation = 'relu'))\n",
    "network.add(layers.MaxPooling2D((2,2)))\n",
    "network.add(layers.Flatten())\n",
    "network.add(layers.Dense(1, activation = 'sigmoid'))\n",
    "\n",
    "network.summary() "
   ]
  },
  {
   "cell_type": "code",
   "execution_count": 13,
   "metadata": {},
   "outputs": [],
   "source": [
    "from tensorflow.keras.metrics import SensitivityAtSpecificity\n",
    "\n",
    "network.compile(loss='binary_crossentropy', metrics=[SensitivityAtSpecificity(0.9)])"
   ]
  },
  {
   "cell_type": "code",
   "execution_count": null,
   "metadata": {},
   "outputs": [
    {
     "name": "stdout",
     "output_type": "stream",
     "text": [
      "216/218 [============================>.] - ETA: 1s - loss: 0.3438 - sensitivity_at_specificity: 0.6973"
     ]
    }
   ],
   "source": [
    "%%time\n",
    "history = network.fit_generator(train_generator,\n",
    "                                workers=4,\n",
    "                                steps_per_epoch=int(train_generator.samples / batch_size)-1,\n",
    "                                verbose=1,\n",
    "                                epochs=1,\n",
    "                                validation_data=dev_generator,\n",
    "                                validation_steps=dev_generator.samples)"
   ]
  },
  {
   "cell_type": "code",
   "execution_count": null,
   "metadata": {},
   "outputs": [],
   "source": [
    "history.history.keys()"
   ]
  },
  {
   "cell_type": "code",
   "execution_count": null,
   "metadata": {},
   "outputs": [],
   "source": [
    "sas = history.history['sensitivity_at_specificity']\n",
    "val_sas = history.history['val_sensitivity_at_specificity']\n",
    "loss = history.history['loss']\n",
    "val_loss = history.history['val_loss']\n",
    "epochs = range(len(sas))"
   ]
  },
  {
   "cell_type": "code",
   "execution_count": null,
   "metadata": {},
   "outputs": [],
   "source": [
    "plot(epochs,sas,'bo-',label='Training sas')\n",
    "plot(epochs,val_sas,'r*-',label='Validation sas')\n",
    "title('Training and validation sas')\n",
    "grid()\n",
    "legend()\n",
    "\n",
    "figure()\n",
    "plot(epochs,loss,'bo-',label='Training loss')\n",
    "plot(epochs,val_loss,'r*-',label='Validation loss')\n",
    "title('Training and validation loss')\n",
    "grid()\n",
    "legend()\n",
    "\n",
    "show()"
   ]
  },
  {
   "cell_type": "code",
   "execution_count": null,
   "metadata": {},
   "outputs": [],
   "source": []
  }
 ],
 "metadata": {
  "kernelspec": {
   "display_name": "Python 3",
   "language": "python",
   "name": "python3"
  },
  "language_info": {
   "codemirror_mode": {
    "name": "ipython",
    "version": 3
   },
   "file_extension": ".py",
   "mimetype": "text/x-python",
   "name": "python",
   "nbconvert_exporter": "python",
   "pygments_lexer": "ipython3",
   "version": "3.7.4"
  }
 },
 "nbformat": 4,
 "nbformat_minor": 2
}
