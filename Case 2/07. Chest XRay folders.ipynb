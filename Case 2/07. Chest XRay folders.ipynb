{
 "cells": [
  {
   "cell_type": "code",
   "execution_count": 2,
   "metadata": {},
   "outputs": [],
   "source": [
    "import os, shutil"
   ]
  },
  {
   "cell_type": "code",
   "execution_count": 3,
   "metadata": {},
   "outputs": [],
   "source": [
    "# Create base directory for the files\n",
    "\n",
    "original_dir = 'C:/Users/kopuj/Downloads/ChestXRay2017/chest_xray'\n",
    "\n",
    "base_dir = 'C:/Users/kopuj/Downloads/Case2_XRay'\n",
    "os.mkdir(base_dir)"
   ]
  },
  {
   "cell_type": "code",
   "execution_count": 4,
   "metadata": {},
   "outputs": [],
   "source": [
    "# Create subdirectories for training, validation and testing\n",
    "\n",
    "train_dir = os.path.join(base_dir, 'train')\n",
    "os.mkdir(train_dir)\n",
    "validation_dir = os.path.join(base_dir, 'validation')\n",
    "os.mkdir(validation_dir)\n",
    "test_dir = os.path.join(base_dir, 'test')\n",
    "os.mkdir(test_dir)"
   ]
  },
  {
   "cell_type": "code",
   "execution_count": 5,
   "metadata": {},
   "outputs": [],
   "source": [
    "# Create subdirectories for the two classes\n",
    "\n",
    "train_normal_dir = os.path.join(train_dir, 'NORMAL')\n",
    "os.mkdir(train_normal_dir)\n",
    "train_pneumonia_dir = os.path.join(train_dir, 'PNEUMONIA')\n",
    "os.mkdir(train_pneumonia_dir)\n",
    "validation_normal_dir = os.path.join(validation_dir, 'NORMAL')\n",
    "os.mkdir(validation_normal_dir)\n",
    "validation_pneumonia_dir = os.path.join(validation_dir, 'PNEUMONIA')\n",
    "os.mkdir(validation_pneumonia_dir)\n",
    "test_normal_dir = os.path.join(test_dir, 'NORMAL')\n",
    "os.mkdir(test_normal_dir)\n",
    "test_pneumonia_dir = os.path.join(test_dir, 'PNEUMONIA')\n",
    "os.mkdir(test_pneumonia_dir)"
   ]
  },
  {
   "cell_type": "code",
   "execution_count": 6,
   "metadata": {},
   "outputs": [
    {
     "name": "stdout",
     "output_type": "stream",
     "text": [
      "Train directory:\n",
      "1349 normal images\n",
      "3884 pneumonia images\n",
      "Test directory:\n",
      "234 normal images\n",
      "390 pneumonia images\n"
     ]
    }
   ],
   "source": [
    "# Create lists with training file names\n",
    "\n",
    "original_train_dir = os.path.join(original_dir,'train')\n",
    "original_test_dir = os.path.join(original_dir,'test')\n",
    "\n",
    "train_names_normal = os.listdir(os.path.join(original_train_dir,'NORMAL'))\n",
    "train_names_pneumonia = os.listdir(os.path.join(original_train_dir,'PNEUMONIA'))\n",
    "\n",
    "test_names_normal = os.listdir(os.path.join(original_test_dir,'NORMAL'))\n",
    "test_names_pneumonia = os.listdir(os.path.join(original_test_dir,'PNEUMONIA'))\n",
    "\n",
    "print('Train directory:')\n",
    "print(len(train_names_normal),'normal images')\n",
    "print(len(train_names_pneumonia),'pneumonia images') \n",
    "\n",
    "print('Test directory:')\n",
    "print(len(test_names_normal),'normal images')\n",
    "print(len(test_names_pneumonia),'pneumonia images') \n"
   ]
  },
  {
   "cell_type": "code",
   "execution_count": 7,
   "metadata": {},
   "outputs": [],
   "source": [
    "# Shuffle the lists in random order\n",
    "\n",
    "import random\n",
    "\n",
    "random.shuffle(train_names_normal)\n",
    "random.shuffle(train_names_pneumonia)\n",
    "random.shuffle(test_names_normal)\n",
    "random.shuffle(test_names_pneumonia)"
   ]
  },
  {
   "cell_type": "code",
   "execution_count": 8,
   "metadata": {},
   "outputs": [
    {
     "name": "stdout",
     "output_type": "stream",
     "text": [
      "Train data normal:\n",
      "60% 809\n",
      "80% 1079\n",
      "Train data pneumonia:\n",
      "60% 2330\n",
      "80% 3107\n",
      "Test data normal:\n",
      "60% 140\n",
      "80% 187\n",
      "Test data pneumonia:\n",
      "60% 234\n",
      "80% 312\n"
     ]
    }
   ],
   "source": [
    "# Compute splitting points for train/validation/test with 60%/20%/20% to be used below\n",
    "\n",
    "print('Train data normal:')\n",
    "print('60%',int(0.6*len(train_names_normal)))\n",
    "print('80%',int(0.8*len(train_names_normal)))\n",
    "\n",
    "print('Train data pneumonia:')\n",
    "print('60%',int(0.6*len(train_names_pneumonia)))\n",
    "print('80%',int(0.8*len(train_names_pneumonia)))\n",
    "\n",
    "print('Test data normal:')\n",
    "print('60%',int(0.6*len(test_names_normal)))\n",
    "print('80%',int(0.8*len(test_names_normal)))\n",
    "\n",
    "print('Test data pneumonia:')\n",
    "print('60%',int(0.6*len(test_names_pneumonia)))\n",
    "print('80%',int(0.8*len(test_names_pneumonia)))"
   ]
  },
  {
   "cell_type": "code",
   "execution_count": 9,
   "metadata": {},
   "outputs": [],
   "source": [
    "original_train_normal_dir = os.path.join(original_train_dir,'NORMAL')\n",
    "original_train_pneumonia_dir = os.path.join(original_train_dir,'PNEUMONIA')\n",
    "original_test_normal_dir = os.path.join(original_test_dir,'NORMAL')\n",
    "original_test_pneumonia_dir = os.path.join(original_test_dir,'PNEUMONIA')\n",
    "\n",
    "# Copy original training data of type normal to new directories in proper ratios\n",
    "\n",
    "for fname in train_names_normal[:809]:\n",
    "    src = os.path.join(original_train_normal_dir, fname)\n",
    "    dst = os.path.join(train_normal_dir, fname)\n",
    "    shutil.copyfile(src, dst)\n",
    "    \n",
    "for fname in train_names_normal[809:1079]:\n",
    "    src = os.path.join(original_train_normal_dir, fname)\n",
    "    dst = os.path.join(validation_normal_dir, fname)\n",
    "    shutil.copyfile(src, dst)\n",
    "    \n",
    "for fname in train_names_normal[1079:]:\n",
    "    src = os.path.join(original_train_normal_dir, fname)\n",
    "    dst = os.path.join(test_normal_dir, fname)\n",
    "    shutil.copyfile(src, dst)"
   ]
  },
  {
   "cell_type": "code",
   "execution_count": 10,
   "metadata": {},
   "outputs": [],
   "source": [
    "# Copy original training data of type pneumonia to new directories in proper ratios\n",
    "\n",
    "for fname in train_names_pneumonia[:2330]:\n",
    "    src = os.path.join(original_train_pneumonia_dir, fname)\n",
    "    dst = os.path.join(train_pneumonia_dir, fname)\n",
    "    shutil.copyfile(src, dst)\n",
    "    \n",
    "for fname in train_names_pneumonia[2330:3107]:\n",
    "    src = os.path.join(original_train_pneumonia_dir, fname)\n",
    "    dst = os.path.join(validation_pneumonia_dir, fname)\n",
    "    shutil.copyfile(src, dst)\n",
    "    \n",
    "for fname in train_names_pneumonia[3107:]:\n",
    "    src = os.path.join(original_train_pneumonia_dir, fname)\n",
    "    dst = os.path.join(test_pneumonia_dir, fname)\n",
    "    shutil.copyfile(src, dst)"
   ]
  },
  {
   "cell_type": "code",
   "execution_count": 11,
   "metadata": {},
   "outputs": [],
   "source": [
    "# Copy original test data of type normal to new directories in proper ratios\n",
    "\n",
    "for fname in test_names_normal[:140]:\n",
    "    src = os.path.join(original_test_normal_dir, fname)\n",
    "    dst = os.path.join(train_normal_dir, fname)\n",
    "    shutil.copyfile(src, dst)\n",
    "    \n",
    "for fname in test_names_normal[140:187]:\n",
    "    src = os.path.join(original_test_normal_dir, fname)\n",
    "    dst = os.path.join(validation_normal_dir, fname)\n",
    "    shutil.copyfile(src, dst)\n",
    "    \n",
    "for fname in test_names_normal[187:]:\n",
    "    src = os.path.join(original_test_normal_dir, fname)\n",
    "    dst = os.path.join(test_normal_dir, fname)\n",
    "    shutil.copyfile(src, dst)"
   ]
  },
  {
   "cell_type": "code",
   "execution_count": 12,
   "metadata": {},
   "outputs": [],
   "source": [
    "# Copy original test data of type pneumonia to new directories in proper ratios\n",
    "\n",
    "for fname in test_names_pneumonia[:234]:\n",
    "    src = os.path.join(original_test_pneumonia_dir, fname)\n",
    "    dst = os.path.join(train_pneumonia_dir, fname)\n",
    "    shutil.copyfile(src, dst)\n",
    "    \n",
    "for fname in test_names_pneumonia[234:312]:\n",
    "    src = os.path.join(original_test_pneumonia_dir, fname)\n",
    "    dst = os.path.join(validation_pneumonia_dir, fname)\n",
    "    shutil.copyfile(src, dst)\n",
    "    \n",
    "for fname in test_names_pneumonia[312:]:\n",
    "    src = os.path.join(original_test_pneumonia_dir, fname)\n",
    "    dst = os.path.join(test_pneumonia_dir, fname)\n",
    "    shutil.copyfile(src, dst)"
   ]
  },
  {
   "cell_type": "code",
   "execution_count": 13,
   "metadata": {},
   "outputs": [
    {
     "name": "stdout",
     "output_type": "stream",
     "text": [
      "Total normal training samples 949\n",
      "Total pneumonia training samples 2564\n",
      "Total normal validation samples 317\n",
      "Total pneumonia validation samples 855\n",
      "Total normal test samples 317\n",
      "Total pneumonia test samples 855\n"
     ]
    }
   ],
   "source": [
    "# Check the contents of the new directories\n",
    "\n",
    "print('Total normal training samples',len(os.listdir(train_normal_dir)))\n",
    "print('Total pneumonia training samples',len(os.listdir(train_pneumonia_dir)))\n",
    "\n",
    "print('Total normal validation samples',len(os.listdir(validation_normal_dir)))\n",
    "print('Total pneumonia validation samples',len(os.listdir(validation_pneumonia_dir)))\n",
    "\n",
    "print('Total normal test samples',len(os.listdir(test_normal_dir)))\n",
    "print('Total pneumonia test samples',len(os.listdir(test_pneumonia_dir)))"
   ]
  },
  {
   "cell_type": "code",
   "execution_count": null,
   "metadata": {},
   "outputs": [],
   "source": []
  }
 ],
 "metadata": {
  "kernelspec": {
   "display_name": "Python 3",
   "language": "python",
   "name": "python3"
  },
  "language_info": {
   "codemirror_mode": {
    "name": "ipython",
    "version": 3
   },
   "file_extension": ".py",
   "mimetype": "text/x-python",
   "name": "python",
   "nbconvert_exporter": "python",
   "pygments_lexer": "ipython3",
   "version": "3.7.4"
  }
 },
 "nbformat": 4,
 "nbformat_minor": 2
}
