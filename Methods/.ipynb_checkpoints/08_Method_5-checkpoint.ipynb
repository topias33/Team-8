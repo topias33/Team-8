{
 "cells": [
  {
   "cell_type": "code",
   "execution_count": 1,
   "metadata": {},
   "outputs": [
    {
     "name": "stdout",
     "output_type": "stream",
     "text": [
      "Populating the interactive namespace from numpy and matplotlib\n"
     ]
    }
   ],
   "source": [
    "%pylab inline\n",
    "import pandas as pd"
   ]
  },
  {
   "cell_type": "code",
   "execution_count": 2,
   "metadata": {},
   "outputs": [],
   "source": [
    "# six biomechanical attributes:\n",
    "names = ['pelvic incidence', 'pelvic tilt', 'lumbar lordosis angle', 'sacral slope', 'pelvic radius', 'grade of spondylolisthesis']\n",
    "\n",
    "# DH (Disk Hernia), Spondylolisthesis (SL), Normal (NO) and Abnormal (AB)\n",
    "actual_names = {'DH':'Disk Hernia', 'SL':'Spondylolisthesis','NO':'Normal', 'AB':'Abnormal'}"
   ]
  },
  {
   "cell_type": "markdown",
   "metadata": {},
   "source": [
    "---\n",
    "# Binary"
   ]
  },
  {
   "cell_type": "code",
   "execution_count": 3,
   "metadata": {},
   "outputs": [],
   "source": [
    "df = pd.read_csv('./vertebral_column_data/column_2C.dat', ' ', header=None)\n",
    "\n",
    "df = df.sample(frac=1)"
   ]
  },
  {
   "cell_type": "code",
   "execution_count": 4,
   "metadata": {},
   "outputs": [
    {
     "data": {
      "text/html": [
       "<div>\n",
       "<style scoped>\n",
       "    .dataframe tbody tr th:only-of-type {\n",
       "        vertical-align: middle;\n",
       "    }\n",
       "\n",
       "    .dataframe tbody tr th {\n",
       "        vertical-align: top;\n",
       "    }\n",
       "\n",
       "    .dataframe thead th {\n",
       "        text-align: right;\n",
       "    }\n",
       "</style>\n",
       "<table border=\"1\" class=\"dataframe\">\n",
       "  <thead>\n",
       "    <tr style=\"text-align: right;\">\n",
       "      <th></th>\n",
       "      <th>pelvic incidence</th>\n",
       "      <th>pelvic tilt</th>\n",
       "      <th>lumbar lordosis angle</th>\n",
       "      <th>sacral slope</th>\n",
       "      <th>pelvic radius</th>\n",
       "      <th>grade of spondylolisthesis</th>\n",
       "    </tr>\n",
       "  </thead>\n",
       "  <tbody>\n",
       "    <tr>\n",
       "      <td>277</td>\n",
       "      <td>65.76</td>\n",
       "      <td>13.21</td>\n",
       "      <td>44.00</td>\n",
       "      <td>52.55</td>\n",
       "      <td>129.39</td>\n",
       "      <td>-1.98</td>\n",
       "    </tr>\n",
       "    <tr>\n",
       "      <td>297</td>\n",
       "      <td>45.58</td>\n",
       "      <td>18.76</td>\n",
       "      <td>33.77</td>\n",
       "      <td>26.82</td>\n",
       "      <td>116.80</td>\n",
       "      <td>3.13</td>\n",
       "    </tr>\n",
       "    <tr>\n",
       "      <td>265</td>\n",
       "      <td>48.17</td>\n",
       "      <td>9.59</td>\n",
       "      <td>39.71</td>\n",
       "      <td>38.58</td>\n",
       "      <td>135.62</td>\n",
       "      <td>5.36</td>\n",
       "    </tr>\n",
       "    <tr>\n",
       "      <td>101</td>\n",
       "      <td>79.94</td>\n",
       "      <td>18.77</td>\n",
       "      <td>63.31</td>\n",
       "      <td>61.16</td>\n",
       "      <td>114.79</td>\n",
       "      <td>38.54</td>\n",
       "    </tr>\n",
       "    <tr>\n",
       "      <td>275</td>\n",
       "      <td>67.29</td>\n",
       "      <td>16.72</td>\n",
       "      <td>51.00</td>\n",
       "      <td>50.57</td>\n",
       "      <td>137.59</td>\n",
       "      <td>4.96</td>\n",
       "    </tr>\n",
       "  </tbody>\n",
       "</table>\n",
       "</div>"
      ],
      "text/plain": [
       "     pelvic incidence  pelvic tilt  lumbar lordosis angle  sacral slope  \\\n",
       "277             65.76        13.21                  44.00         52.55   \n",
       "297             45.58        18.76                  33.77         26.82   \n",
       "265             48.17         9.59                  39.71         38.58   \n",
       "101             79.94        18.77                  63.31         61.16   \n",
       "275             67.29        16.72                  51.00         50.57   \n",
       "\n",
       "     pelvic radius  grade of spondylolisthesis  \n",
       "277         129.39                       -1.98  \n",
       "297         116.80                        3.13  \n",
       "265         135.62                        5.36  \n",
       "101         114.79                       38.54  \n",
       "275         137.59                        4.96  "
      ]
     },
     "execution_count": 4,
     "metadata": {},
     "output_type": "execute_result"
    }
   ],
   "source": [
    "X = df.iloc[:,:6]\n",
    "X.columns = names\n",
    "X.head()"
   ]
  },
  {
   "cell_type": "markdown",
   "metadata": {},
   "source": [
    "from sklearn.preprocessing import StandardScaler\n",
    "scaler = StandardScaler()\n",
    "X = pd.DataFrame(scaler.fit_transform(X), columns=names)\n",
    "X.head(10)"
   ]
  },
  {
   "cell_type": "code",
   "execution_count": 5,
   "metadata": {},
   "outputs": [
    {
     "data": {
      "text/plain": [
       "AB    210\n",
       "NO    100\n",
       "Name: 6, dtype: int64"
      ]
     },
     "execution_count": 5,
     "metadata": {},
     "output_type": "execute_result"
    }
   ],
   "source": [
    "y = df.iloc[:,6]\n",
    "labels = y.unique()\n",
    "y.value_counts()"
   ]
  },
  {
   "cell_type": "code",
   "execution_count": 6,
   "metadata": {},
   "outputs": [],
   "source": [
    "# Split Data to train and test sets\n",
    "\n",
    "from sklearn.model_selection import train_test_split\n",
    "\n",
    "# X = data, y = labels\n",
    "X_train, X_test, y_train, y_test = train_test_split(X, y, \n",
    "                                                    test_size=0.2,\n",
    "                                                   random_state=0,\n",
    "                                                   shuffle=False)\n",
    "\n",
    "# Reset index because otherwise row index start from none zero\n",
    "X_test = X_test.reset_index(drop=True)\n",
    "y_test = y_test.reset_index(drop=True)"
   ]
  },
  {
   "cell_type": "code",
   "execution_count": 7,
   "metadata": {},
   "outputs": [
    {
     "name": "stdout",
     "output_type": "stream",
     "text": [
      "coef: [[-4.41361867e-06 -6.90286976e-02  1.86820040e-02  8.13683178e-02\n",
      "   9.35532319e-02 -1.54578109e-01]]\n",
      "intercept: [-13.19132631]\n"
     ]
    }
   ],
   "source": [
    "from sklearn.linear_model import LogisticRegression\n",
    "\n",
    "reg = LogisticRegression(solver='lbfgs')\n",
    "reg.fit(X_train, y_train)\n",
    "\n",
    "print('coef:',reg.coef_)\n",
    "print('intercept:',reg.intercept_)"
   ]
  },
  {
   "cell_type": "code",
   "execution_count": 8,
   "metadata": {
    "scrolled": false
   },
   "outputs": [
    {
     "name": "stdout",
     "output_type": "stream",
     "text": [
      "Confusion matrix:\n",
      " [[42  2]\n",
      " [ 2 16]]\n",
      "\n",
      "Accuracy: 0.935\n",
      "\n",
      "Classification report:\n",
      "               precision    recall  f1-score   support\n",
      "\n",
      "          NO       0.95      0.95      0.95        44\n",
      "          AB       0.89      0.89      0.89        18\n",
      "\n",
      "    accuracy                           0.94        62\n",
      "   macro avg       0.92      0.92      0.92        62\n",
      "weighted avg       0.94      0.94      0.94        62\n",
      "\n",
      "Accuracies from 10 individual folds:\n",
      "[1.         1.         0.42857143 0.85714286 1.         1.\n",
      " 1.         0.83333333 1.         1.        ]\n",
      "Accuracy calculated using 10-fold cross validation = 0.912\n"
     ]
    },
    {
     "name": "stderr",
     "output_type": "stream",
     "text": [
      "C:\\Users\\topia\\Anaconda3\\lib\\site-packages\\sklearn\\linear_model\\logistic.py:947: ConvergenceWarning: lbfgs failed to converge. Increase the number of iterations.\n",
      "  \"of iterations.\", ConvergenceWarning)\n"
     ]
    }
   ],
   "source": [
    "from sklearn.metrics import confusion_matrix, classification_report\n",
    "from sklearn.model_selection import cross_val_score\n",
    "\n",
    "y_pred = reg.predict(X_test)\n",
    "\n",
    "cm = confusion_matrix(y_test, y_pred)\n",
    "print('Confusion matrix:\\n', cm.T)\n",
    "print()\n",
    "\n",
    "acc = (cm[0,0] + cm[1,1]) / np.sum(cm)\n",
    "print(f'Accuracy: {acc:.3f}')\n",
    "print()\n",
    "\n",
    "cr = classification_report(y_test, y_pred, target_names=labels)\n",
    "print('Classification report:\\n',cr)\n",
    "\n",
    "k=10\n",
    "scores = cross_val_score(reg, X_test, y_test, scoring='accuracy', cv=k)\n",
    "\n",
    "print(f'Accuracies from {k} individual folds:', \n",
    "      scores, \n",
    "      f'Accuracy calculated using {k}-fold cross validation = {scores.mean():.3f}', \n",
    "      sep='\\n')"
   ]
  },
  {
   "cell_type": "code",
   "execution_count": 15,
   "metadata": {},
   "outputs": [
    {
     "name": "stdout",
     "output_type": "stream",
     "text": [
      "1. pelvic incidence: 0\n",
      "2. pelvic tilt: 0\n",
      "3. lumbar lordosis angle: 0\n",
      "4. sacral slope: 0\n",
      "5. pelvic radius: 0\n",
      "6. grade of spondylolisthesis: 0\n",
      "\n",
      "Prediction: Normal\n",
      "Certainty: 100.00 %\n"
     ]
    }
   ],
   "source": [
    "inputs = []\n",
    "for i, name in enumerate(names):\n",
    "    inputs.append(float(input(f'{i+1}. {name}: ')))\n",
    "    \n",
    "probs = reg.predict_proba([inputs]).flatten()\n",
    "imax = probs.argmax()\n",
    "\n",
    "print('\\nPrediction:', actual_names[labels[imax]])\n",
    "print(f'Certainty: {probs[imax]*100:.2f} %')"
   ]
  },
  {
   "cell_type": "markdown",
   "metadata": {},
   "source": [
    "---\n",
    "# Tri-categorical"
   ]
  },
  {
   "cell_type": "code",
   "execution_count": 16,
   "metadata": {},
   "outputs": [],
   "source": [
    "df2 = pd.read_csv('./vertebral_column_data/column_3C.dat', ' ', header=None)\n",
    "\n",
    "df2 = df2.sample(frac=1)"
   ]
  },
  {
   "cell_type": "code",
   "execution_count": 17,
   "metadata": {},
   "outputs": [
    {
     "data": {
      "text/html": [
       "<div>\n",
       "<style scoped>\n",
       "    .dataframe tbody tr th:only-of-type {\n",
       "        vertical-align: middle;\n",
       "    }\n",
       "\n",
       "    .dataframe tbody tr th {\n",
       "        vertical-align: top;\n",
       "    }\n",
       "\n",
       "    .dataframe thead th {\n",
       "        text-align: right;\n",
       "    }\n",
       "</style>\n",
       "<table border=\"1\" class=\"dataframe\">\n",
       "  <thead>\n",
       "    <tr style=\"text-align: right;\">\n",
       "      <th></th>\n",
       "      <th>pelvic incidence</th>\n",
       "      <th>pelvic tilt</th>\n",
       "      <th>lumbar lordosis angle</th>\n",
       "      <th>sacral slope</th>\n",
       "      <th>pelvic radius</th>\n",
       "      <th>grade of spondylolisthesis</th>\n",
       "    </tr>\n",
       "  </thead>\n",
       "  <tbody>\n",
       "    <tr>\n",
       "      <td>222</td>\n",
       "      <td>56.10</td>\n",
       "      <td>13.11</td>\n",
       "      <td>62.64</td>\n",
       "      <td>43.00</td>\n",
       "      <td>116.23</td>\n",
       "      <td>31.17</td>\n",
       "    </tr>\n",
       "    <tr>\n",
       "      <td>72</td>\n",
       "      <td>84.97</td>\n",
       "      <td>33.02</td>\n",
       "      <td>60.86</td>\n",
       "      <td>51.95</td>\n",
       "      <td>125.66</td>\n",
       "      <td>74.33</td>\n",
       "    </tr>\n",
       "    <tr>\n",
       "      <td>52</td>\n",
       "      <td>50.21</td>\n",
       "      <td>29.76</td>\n",
       "      <td>36.10</td>\n",
       "      <td>20.45</td>\n",
       "      <td>128.29</td>\n",
       "      <td>5.74</td>\n",
       "    </tr>\n",
       "    <tr>\n",
       "      <td>118</td>\n",
       "      <td>65.54</td>\n",
       "      <td>24.16</td>\n",
       "      <td>45.78</td>\n",
       "      <td>41.38</td>\n",
       "      <td>136.44</td>\n",
       "      <td>16.38</td>\n",
       "    </tr>\n",
       "    <tr>\n",
       "      <td>83</td>\n",
       "      <td>81.10</td>\n",
       "      <td>24.79</td>\n",
       "      <td>77.89</td>\n",
       "      <td>56.31</td>\n",
       "      <td>151.84</td>\n",
       "      <td>65.21</td>\n",
       "    </tr>\n",
       "  </tbody>\n",
       "</table>\n",
       "</div>"
      ],
      "text/plain": [
       "     pelvic incidence  pelvic tilt  lumbar lordosis angle  sacral slope  \\\n",
       "222             56.10        13.11                  62.64         43.00   \n",
       "72              84.97        33.02                  60.86         51.95   \n",
       "52              50.21        29.76                  36.10         20.45   \n",
       "118             65.54        24.16                  45.78         41.38   \n",
       "83              81.10        24.79                  77.89         56.31   \n",
       "\n",
       "     pelvic radius  grade of spondylolisthesis  \n",
       "222         116.23                       31.17  \n",
       "72          125.66                       74.33  \n",
       "52          128.29                        5.74  \n",
       "118         136.44                       16.38  \n",
       "83          151.84                       65.21  "
      ]
     },
     "execution_count": 17,
     "metadata": {},
     "output_type": "execute_result"
    }
   ],
   "source": [
    "X2 = df2.iloc[:,:6]\n",
    "X2.columns = names\n",
    "X2.head()"
   ]
  },
  {
   "cell_type": "code",
   "execution_count": 18,
   "metadata": {},
   "outputs": [
    {
     "data": {
      "text/plain": [
       "SL    150\n",
       "NO    100\n",
       "DH     60\n",
       "Name: 6, dtype: int64"
      ]
     },
     "execution_count": 18,
     "metadata": {},
     "output_type": "execute_result"
    }
   ],
   "source": [
    "y2 = df2.iloc[:,6]\n",
    "labels2 = y2.unique()\n",
    "y2.value_counts()"
   ]
  },
  {
   "cell_type": "code",
   "execution_count": 19,
   "metadata": {},
   "outputs": [],
   "source": [
    "# Split Data to train and test sets\n",
    "\n",
    "from sklearn.model_selection import train_test_split\n",
    "\n",
    "# X = data, y = labels\n",
    "X2_train, X2_test, y2_train, y2_test = train_test_split(X2, y2, \n",
    "                                                    test_size=0.2,\n",
    "                                                   random_state=0,\n",
    "                                                   shuffle=False)\n",
    "\n",
    "# Reset index because otherwise row index start from none zero\n",
    "X2_test = X2_test.reset_index(drop=True)\n",
    "y2_test = y2_test.reset_index(drop=True)"
   ]
  },
  {
   "cell_type": "code",
   "execution_count": 20,
   "metadata": {},
   "outputs": [
    {
     "name": "stdout",
     "output_type": "stream",
     "text": [
      "coef: [[-4.41361867e-06 -6.90286976e-02  1.86820040e-02  8.13683178e-02\n",
      "   9.35532319e-02 -1.54578109e-01]]\n",
      "intercept: [-13.19132631]\n"
     ]
    }
   ],
   "source": [
    "reg2 = LogisticRegression(solver='liblinear', multi_class='ovr')\n",
    "reg2.fit(X2_train, y2_train)\n",
    "\n",
    "print('coef:',reg.coef_)\n",
    "print('intercept:',reg.intercept_)"
   ]
  },
  {
   "cell_type": "code",
   "execution_count": 21,
   "metadata": {},
   "outputs": [
    {
     "name": "stdout",
     "output_type": "stream",
     "text": [
      "Confusion matrix:\n",
      " [[ 4  8  0]\n",
      " [ 6 16  0]\n",
      " [ 0  0 28]]\n",
      "\n",
      "Accuracy: 0.774\n",
      "\n",
      "Classification report:\n",
      "               precision    recall  f1-score   support\n",
      "\n",
      "          NO       0.33      0.40      0.36        10\n",
      "          SL       0.73      0.67      0.70        24\n",
      "          DH       1.00      1.00      1.00        28\n",
      "\n",
      "    accuracy                           0.77        62\n",
      "   macro avg       0.69      0.69      0.69        62\n",
      "weighted avg       0.79      0.77      0.78        62\n",
      "\n",
      "Accuracies from 10 individual folds:\n",
      "[0.85714286 0.71428571 0.85714286 0.85714286 0.83333333 0.83333333\n",
      " 0.83333333 1.         0.8        0.6       ]\n",
      "Accuracy calculated using 10-fold cross validation = 0.819\n"
     ]
    }
   ],
   "source": [
    "y_pred2 = reg2.predict(X2_test)\n",
    "\n",
    "cm = confusion_matrix(y2_test, y_pred2)\n",
    "print('Confusion matrix:\\n', cm.T)\n",
    "print()\n",
    "\n",
    "acc = (cm[0,0] + cm[1,1] + cm[2,2]) / np.sum(cm)\n",
    "print(f'Accuracy: {acc:.3f}')\n",
    "print()\n",
    "\n",
    "cr = classification_report(y2_test, y_pred2, target_names=labels2)\n",
    "print('Classification report:\\n',cr)\n",
    "\n",
    "k=10\n",
    "scores = cross_val_score(reg2, X2_test, y2_test, scoring='accuracy', cv=k)\n",
    "\n",
    "print(f'Accuracies from {k} individual folds:', \n",
    "      scores, \n",
    "      f'Accuracy calculated using {k}-fold cross validation = {scores.mean():.3f}', \n",
    "      sep='\\n')"
   ]
  },
  {
   "cell_type": "code",
   "execution_count": 25,
   "metadata": {},
   "outputs": [
    {
     "name": "stdout",
     "output_type": "stream",
     "text": [
      "1. pelvic incidence: 12\n",
      "2. pelvic tilt: 45\n",
      "3. lumbar lordosis angle: 3\n",
      "4. sacral slope: 5\n",
      "5. pelvic radius: 2\n",
      "6. grade of spondylolisthesis: 33\n",
      "\n",
      "Prediction: Disk Hernia\n",
      "Certainty: 50.72 %\n"
     ]
    }
   ],
   "source": [
    "inputs = []\n",
    "for i, name in enumerate(names):\n",
    "    inputs.append(float(input(f'{i+1}. {name}: ')))\n",
    "    \n",
    "probs = reg2.predict_proba([inputs]).flatten()\n",
    "imax = probs.argmax()\n",
    "\n",
    "print('\\nPrediction:', actual_names[labels2[imax]])\n",
    "print(f'Certainty: {probs[imax]*100:.2f} %')"
   ]
  }
 ],
 "metadata": {
  "kernelspec": {
   "display_name": "Python 3",
   "language": "python",
   "name": "python3"
  },
  "language_info": {
   "codemirror_mode": {
    "name": "ipython",
    "version": 3
   },
   "file_extension": ".py",
   "mimetype": "text/x-python",
   "name": "python",
   "nbconvert_exporter": "python",
   "pygments_lexer": "ipython3",
   "version": "3.7.4"
  }
 },
 "nbformat": 4,
 "nbformat_minor": 2
}
